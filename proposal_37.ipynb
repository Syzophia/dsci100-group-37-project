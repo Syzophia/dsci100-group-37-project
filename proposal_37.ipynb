{
 "cells": [
  {
   "cell_type": "markdown",
   "id": "01e03e75-8743-40b0-8eb0-4adabf752acf",
   "metadata": {},
   "source": [
    "# **Project Proposal - Group 37**"
   ]
  },
  {
   "cell_type": "markdown",
   "id": "43580a43-99ad-45ad-879a-ff81192d7276",
   "metadata": {},
   "source": [
    "## Group members:\n",
    "- Nadia Khalil Arjomandi\r",
    "- Savero Lukianto Chandra \r",
    "- Brianna De Souza \r",
    "- \n",
    "Sophia Sheng\r\n"
   ]
  },
  {
   "cell_type": "markdown",
   "id": "1555558d-8247-4f4a-8be6-fcaa1659676f",
   "metadata": {},
   "source": [
    "# I. Introduction"
   ]
  },
  {
   "cell_type": "markdown",
   "id": "b09eb765-bf42-4813-93f0-cf9c251bf221",
   "metadata": {},
   "source": []
  },
  {
   "cell_type": "markdown",
   "id": "3eb26a9f-0cf0-4649-9a0f-39592b271bc2",
   "metadata": {},
   "source": [
    "# II. Preliminary Data Analysis"
   ]
  },
  {
   "cell_type": "markdown",
   "id": "0099dc6b-444f-4f19-9cc5-295c1807e580",
   "metadata": {},
   "source": []
  },
  {
   "cell_type": "markdown",
   "id": "14801e91-f204-4cbb-8375-921e4502074c",
   "metadata": {},
   "source": [
    "# III. Methods"
   ]
  },
  {
   "cell_type": "markdown",
   "id": "4c3e7d89-c873-468f-9f9e-51bb36f6eed8",
   "metadata": {},
   "source": []
  },
  {
   "cell_type": "markdown",
   "id": "acd693bd-d9d5-4c8c-b1de-87fee6318e8a",
   "metadata": {},
   "source": [
    "# IV. Expected Outcomes and Significance"
   ]
  },
  {
   "cell_type": "markdown",
   "id": "26dde580-9bdb-42b7-b6d8-0a70e1a79972",
   "metadata": {},
   "source": []
  }
 ],
 "metadata": {
  "kernelspec": {
   "display_name": "R",
   "language": "R",
   "name": "ir"
  },
  "language_info": {
   "codemirror_mode": "r",
   "file_extension": ".r",
   "mimetype": "text/x-r-source",
   "name": "R",
   "pygments_lexer": "r",
   "version": "4.3.1"
  }
 },
 "nbformat": 4,
 "nbformat_minor": 5
}
