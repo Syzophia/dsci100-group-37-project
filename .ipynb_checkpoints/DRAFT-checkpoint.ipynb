{
 "cells": [
  {
   "cell_type": "code",
   "execution_count": 20,
   "id": "81e749bb-866d-4cdd-b60b-8e0fbc685004",
   "metadata": {},
   "outputs": [
    {
     "name": "stderr",
     "output_type": "stream",
     "text": [
      "Updating HTML index of packages in '.Library'\n",
      "\n",
      "Making 'packages.html' ...\n",
      " done\n",
      "\n"
     ]
    }
   ],
   "source": [
    "library(tidyverse)\n",
    "install.packages(\"janitor\")\n",
    "library(janitor)\n",
    "library(repr)\n",
    "library(tidymodels)\n",
    "options(repr.matrix.max.rows = 6)"
   ]
  },
  {
   "cell_type": "code",
   "execution_count": 25,
   "id": "28f78d36-e007-43ef-953e-149626e1782b",
   "metadata": {},
   "outputs": [
    {
     "data": {
      "text/html": [
       "<table class=\"dataframe\">\n",
       "<caption>A data.frame: 32560 × 15</caption>\n",
       "<thead>\n",
       "\t<tr><th scope=col>age</th><th scope=col>workclass</th><th scope=col>fnlwgt</th><th scope=col>education</th><th scope=col>education_Level</th><th scope=col>marital_status</th><th scope=col>occupation</th><th scope=col>relationship</th><th scope=col>race</th><th scope=col>sex</th><th scope=col>capital_gain</th><th scope=col>capital_loss</th><th scope=col>weekly_work_hours</th><th scope=col>native_country</th><th scope=col>income</th></tr>\n",
       "\t<tr><th scope=col>&lt;int&gt;</th><th scope=col>&lt;chr&gt;</th><th scope=col>&lt;int&gt;</th><th scope=col>&lt;chr&gt;</th><th scope=col>&lt;int&gt;</th><th scope=col>&lt;chr&gt;</th><th scope=col>&lt;chr&gt;</th><th scope=col>&lt;chr&gt;</th><th scope=col>&lt;chr&gt;</th><th scope=col>&lt;chr&gt;</th><th scope=col>&lt;int&gt;</th><th scope=col>&lt;int&gt;</th><th scope=col>&lt;int&gt;</th><th scope=col>&lt;chr&gt;</th><th scope=col>&lt;chr&gt;</th></tr>\n",
       "</thead>\n",
       "<tbody>\n",
       "\t<tr><td>50</td><td> Self-emp-not-inc</td><td> 83311</td><td> Bachelors</td><td>13</td><td> Married-civ-spouse</td><td><span style=white-space:pre-wrap> Exec-managerial  </span></td><td><span style=white-space:pre-wrap> Husband      </span></td><td> White</td><td> Male</td><td>0</td><td>0</td><td>13</td><td> United-States</td><td> &lt;=50K</td></tr>\n",
       "\t<tr><td>38</td><td><span style=white-space:pre-wrap> Private         </span></td><td>215646</td><td><span style=white-space:pre-wrap> HS-grad  </span></td><td> 9</td><td><span style=white-space:pre-wrap> Divorced          </span></td><td> Handlers-cleaners</td><td> Not-in-family</td><td> White</td><td> Male</td><td>0</td><td>0</td><td>40</td><td> United-States</td><td> &lt;=50K</td></tr>\n",
       "\t<tr><td>53</td><td><span style=white-space:pre-wrap> Private         </span></td><td>234721</td><td><span style=white-space:pre-wrap> 11th     </span></td><td> 7</td><td> Married-civ-spouse</td><td> Handlers-cleaners</td><td><span style=white-space:pre-wrap> Husband      </span></td><td> Black</td><td> Male</td><td>0</td><td>0</td><td>40</td><td> United-States</td><td> &lt;=50K</td></tr>\n",
       "\t<tr><td>⋮</td><td>⋮</td><td>⋮</td><td>⋮</td><td>⋮</td><td>⋮</td><td>⋮</td><td>⋮</td><td>⋮</td><td>⋮</td><td>⋮</td><td>⋮</td><td>⋮</td><td>⋮</td><td>⋮</td></tr>\n",
       "\t<tr><td>58</td><td><span style=white-space:pre-wrap> Private     </span></td><td>151910</td><td> HS-grad</td><td>9</td><td><span style=white-space:pre-wrap> Widowed           </span></td><td><span style=white-space:pre-wrap> Adm-clerical   </span></td><td> Unmarried</td><td> White</td><td> Female</td><td><span style=white-space:pre-wrap>    0</span></td><td>0</td><td>40</td><td> United-States</td><td> &lt;=50K</td></tr>\n",
       "\t<tr><td>22</td><td><span style=white-space:pre-wrap> Private     </span></td><td>201490</td><td> HS-grad</td><td>9</td><td><span style=white-space:pre-wrap> Never-married     </span></td><td><span style=white-space:pre-wrap> Adm-clerical   </span></td><td> Own-child</td><td> White</td><td><span style=white-space:pre-wrap> Male  </span></td><td><span style=white-space:pre-wrap>    0</span></td><td>0</td><td>20</td><td> United-States</td><td> &lt;=50K</td></tr>\n",
       "\t<tr><td>52</td><td> Self-emp-inc</td><td>287927</td><td> HS-grad</td><td>9</td><td> Married-civ-spouse</td><td> Exec-managerial</td><td><span style=white-space:pre-wrap> Wife     </span></td><td> White</td><td> Female</td><td>15024</td><td>0</td><td>40</td><td> United-States</td><td> &gt;50K </td></tr>\n",
       "</tbody>\n",
       "</table>\n"
      ],
      "text/latex": [
       "A data.frame: 32560 × 15\n",
       "\\begin{tabular}{lllllllllllllll}\n",
       " age & workclass & fnlwgt & education & education\\_Level & marital\\_status & occupation & relationship & race & sex & capital\\_gain & capital\\_loss & weekly\\_work\\_hours & native\\_country & income\\\\\n",
       " <int> & <chr> & <int> & <chr> & <int> & <chr> & <chr> & <chr> & <chr> & <chr> & <int> & <int> & <int> & <chr> & <chr>\\\\\n",
       "\\hline\n",
       "\t 50 &  Self-emp-not-inc &  83311 &  Bachelors & 13 &  Married-civ-spouse &  Exec-managerial   &  Husband       &  White &  Male & 0 & 0 & 13 &  United-States &  <=50K\\\\\n",
       "\t 38 &  Private          & 215646 &  HS-grad   &  9 &  Divorced           &  Handlers-cleaners &  Not-in-family &  White &  Male & 0 & 0 & 40 &  United-States &  <=50K\\\\\n",
       "\t 53 &  Private          & 234721 &  11th      &  7 &  Married-civ-spouse &  Handlers-cleaners &  Husband       &  Black &  Male & 0 & 0 & 40 &  United-States &  <=50K\\\\\n",
       "\t ⋮ & ⋮ & ⋮ & ⋮ & ⋮ & ⋮ & ⋮ & ⋮ & ⋮ & ⋮ & ⋮ & ⋮ & ⋮ & ⋮ & ⋮\\\\\n",
       "\t 58 &  Private      & 151910 &  HS-grad & 9 &  Widowed            &  Adm-clerical    &  Unmarried &  White &  Female &     0 & 0 & 40 &  United-States &  <=50K\\\\\n",
       "\t 22 &  Private      & 201490 &  HS-grad & 9 &  Never-married      &  Adm-clerical    &  Own-child &  White &  Male   &     0 & 0 & 20 &  United-States &  <=50K\\\\\n",
       "\t 52 &  Self-emp-inc & 287927 &  HS-grad & 9 &  Married-civ-spouse &  Exec-managerial &  Wife      &  White &  Female & 15024 & 0 & 40 &  United-States &  >50K \\\\\n",
       "\\end{tabular}\n"
      ],
      "text/markdown": [
       "\n",
       "A data.frame: 32560 × 15\n",
       "\n",
       "| age &lt;int&gt; | workclass &lt;chr&gt; | fnlwgt &lt;int&gt; | education &lt;chr&gt; | education_Level &lt;int&gt; | marital_status &lt;chr&gt; | occupation &lt;chr&gt; | relationship &lt;chr&gt; | race &lt;chr&gt; | sex &lt;chr&gt; | capital_gain &lt;int&gt; | capital_loss &lt;int&gt; | weekly_work_hours &lt;int&gt; | native_country &lt;chr&gt; | income &lt;chr&gt; |\n",
       "|---|---|---|---|---|---|---|---|---|---|---|---|---|---|---|\n",
       "| 50 |  Self-emp-not-inc |  83311 |  Bachelors | 13 |  Married-civ-spouse |  Exec-managerial   |  Husband       |  White |  Male | 0 | 0 | 13 |  United-States |  &lt;=50K |\n",
       "| 38 |  Private          | 215646 |  HS-grad   |  9 |  Divorced           |  Handlers-cleaners |  Not-in-family |  White |  Male | 0 | 0 | 40 |  United-States |  &lt;=50K |\n",
       "| 53 |  Private          | 234721 |  11th      |  7 |  Married-civ-spouse |  Handlers-cleaners |  Husband       |  Black |  Male | 0 | 0 | 40 |  United-States |  &lt;=50K |\n",
       "| ⋮ | ⋮ | ⋮ | ⋮ | ⋮ | ⋮ | ⋮ | ⋮ | ⋮ | ⋮ | ⋮ | ⋮ | ⋮ | ⋮ | ⋮ |\n",
       "| 58 |  Private      | 151910 |  HS-grad | 9 |  Widowed            |  Adm-clerical    |  Unmarried |  White |  Female |     0 | 0 | 40 |  United-States |  &lt;=50K |\n",
       "| 22 |  Private      | 201490 |  HS-grad | 9 |  Never-married      |  Adm-clerical    |  Own-child |  White |  Male   |     0 | 0 | 20 |  United-States |  &lt;=50K |\n",
       "| 52 |  Self-emp-inc | 287927 |  HS-grad | 9 |  Married-civ-spouse |  Exec-managerial |  Wife      |  White |  Female | 15024 | 0 | 40 |  United-States |  &gt;50K  |\n",
       "\n"
      ],
      "text/plain": [
       "      age workclass         fnlwgt education  education_Level\n",
       "1     50   Self-emp-not-inc  83311  Bachelors 13             \n",
       "2     38   Private          215646  HS-grad    9             \n",
       "3     53   Private          234721  11th       7             \n",
       "⋮     ⋮   ⋮                 ⋮      ⋮          ⋮              \n",
       "32558 58   Private          151910  HS-grad   9              \n",
       "32559 22   Private          201490  HS-grad   9              \n",
       "32560 52   Self-emp-inc     287927  HS-grad   9              \n",
       "      marital_status      occupation         relationship   race   sex    \n",
       "1      Married-civ-spouse  Exec-managerial    Husband        White  Male  \n",
       "2      Divorced            Handlers-cleaners  Not-in-family  White  Male  \n",
       "3      Married-civ-spouse  Handlers-cleaners  Husband        Black  Male  \n",
       "⋮     ⋮                   ⋮                  ⋮              ⋮      ⋮      \n",
       "32558  Widowed             Adm-clerical       Unmarried      White  Female\n",
       "32559  Never-married       Adm-clerical       Own-child      White  Male  \n",
       "32560  Married-civ-spouse  Exec-managerial    Wife           White  Female\n",
       "      capital_gain capital_loss weekly_work_hours native_country income\n",
       "1     0            0            13                 United-States  <=50K\n",
       "2     0            0            40                 United-States  <=50K\n",
       "3     0            0            40                 United-States  <=50K\n",
       "⋮     ⋮            ⋮            ⋮                 ⋮              ⋮     \n",
       "32558     0        0            40                 United-States  <=50K\n",
       "32559     0        0            20                 United-States  <=50K\n",
       "32560 15024        0            40                 United-States  >50K "
      ]
     },
     "metadata": {},
     "output_type": "display_data"
    }
   ],
   "source": [
    "url <- \"https://raw.githubusercontent.com/Syzophia/dsci100-group-37-project/main/adult.data\"\n",
    "\n",
    "adult_data <- read.csv(url) \n",
    "colnames (adult_data) <- c(\"age\", \"workclass\", \"fnlwgt\", \"education\", \"education_Level\", \"marital_status\",\n",
    "                            \"occupation\", \"relationship\", \"race\", \"sex\", \"capital_gain\", \"capital_loss\", \n",
    "                            \"weekly_work_hours\", \"native_country\", \"income\")\n",
    "adult_data"
   ]
  },
  {
   "cell_type": "code",
   "execution_count": null,
   "id": "fd8a7465-4b78-48af-990f-876e61b83e4a",
   "metadata": {},
   "outputs": [],
   "source": []
  }
 ],
 "metadata": {
  "kernelspec": {
   "display_name": "R",
   "language": "R",
   "name": "ir"
  },
  "language_info": {
   "codemirror_mode": "r",
   "file_extension": ".r",
   "mimetype": "text/x-r-source",
   "name": "R",
   "pygments_lexer": "r",
   "version": "4.3.1"
  }
 },
 "nbformat": 4,
 "nbformat_minor": 5
}
